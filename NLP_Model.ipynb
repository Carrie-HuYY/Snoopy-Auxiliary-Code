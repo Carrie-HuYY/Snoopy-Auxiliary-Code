{
 "cells": [
  {
   "cell_type": "code",
   "execution_count": 1,
   "outputs": [],
   "source": [
    "from collections import Counter\n",
    "from sklearn.preprocessing import MultiLabelBinarizer\n",
    "from sklearn.model_selection import train_test_split\n",
    "import pandas as pd\n",
    "import numpy as np\n",
    "import matplotlib.pyplot as plt\n",
    "import json\n",
    "import random\n",
    "# import torch"
   ],
   "metadata": {
    "collapsed": false,
    "pycharm": {
     "name": "#%%\n"
    }
   }
  },
  {
   "cell_type": "markdown",
   "source": [
    "# 病历导入与数据内容检查"
   ],
   "metadata": {
    "collapsed": false,
    "pycharm": {
     "name": "#%% md\n"
    }
   }
  },
  {
   "cell_type": "code",
   "execution_count": 2,
   "outputs": [],
   "source": [
    "file = open(\"D:/github_planting/MGM/data/test.json\", 'r', encoding='utf-8')\n",
    "Medical_History = []\n",
    "for line in file.readlines():\n",
    "    dic = json.loads(line)\n",
    "    Medical_History.append(dic)"
   ],
   "metadata": {
    "collapsed": false,
    "pycharm": {
     "name": "#%%\n"
    }
   }
  },
  {
   "cell_type": "code",
   "execution_count": 3,
   "outputs": [
    {
     "data": {
      "text/plain": "{'user_id': '435353',\n 'lcd_id': 'BNP130',\n 'lcd_name': '便血病',\n 'syndrome': '气虚不摄证',\n 'chief_complaint': '大便发黑间作4月余。',\n 'description': '患者4月前无明显诱因解黑便，无呕血，无发热，纳可，无呕血，无明显呕吐，时有上腹疼痛，伴反酸烧心，无恶心，无明显后背反酸痛，无明显嗳气，夜寐安。近4月来患者反复解黑便，伴乏力，时有心慌，活动后心慌胸闷喘憋，患者昨日在我院查胃镜示：胃巨大溃疡伴出血（Ca？） 待病理，为求进一步诊治，收住我院。病程中，无发热，今日间断恶心、呕吐，呕吐进食食物及胃内容物，无黄疸，无吞咽困难，小便可，近期体重无明显下降。',\n 'detection': '神志清晰，精神尚可，形体形体适中，语言清晰，口唇红润；皮肤正常，无斑疹。头颅大小形态正常，无目窼下陷，无白睛，耳轮正常，无耳瘘级生疮；颈部对称，无青筋暴露，无瘿瘤瘰疬，胸部对称，虚里搏动正常，腹部平坦，无癥瘕痞块，爪甲色泽：色泽红润，双下肢对称，舌淡红，苔白，脉细。',\n 'norm_syndrome': '气虚不摄证'}"
     },
     "execution_count": 3,
     "metadata": {},
     "output_type": "execute_result"
    }
   ],
   "source": [
    "Medical_History[5]"
   ],
   "metadata": {
    "collapsed": false,
    "pycharm": {
     "name": "#%%\n"
    }
   }
  },
  {
   "cell_type": "markdown",
   "source": [
    "# 病历数量"
   ],
   "metadata": {
    "collapsed": false,
    "pycharm": {
     "name": "#%% md\n"
    }
   }
  },
  {
   "cell_type": "code",
   "execution_count": 4,
   "outputs": [
    {
     "data": {
      "text/plain": "5486"
     },
     "execution_count": 4,
     "metadata": {},
     "output_type": "execute_result"
    }
   ],
   "source": [
    "len(Medical_History)"
   ],
   "metadata": {
    "collapsed": false,
    "pycharm": {
     "name": "#%%\n"
    }
   }
  },
  {
   "cell_type": "markdown",
   "source": [
    "## 标签数量和每种证型的个数"
   ],
   "metadata": {
    "collapsed": false,
    "pycharm": {
     "name": "#%% md\n"
    }
   }
  },
  {
   "cell_type": "code",
   "execution_count": 5,
   "outputs": [],
   "source": [
    "syndromes = [item['syndrome'] for item in Medical_History]\n",
    "syndrome_counts = Counter(syndromes)"
   ],
   "metadata": {
    "collapsed": false,
    "pycharm": {
     "name": "#%%\n"
    }
   }
  },
  {
   "cell_type": "code",
   "execution_count": 6,
   "outputs": [
    {
     "data": {
      "text/plain": "Counter({'气虚血瘀证': 923,\n         '湿热下注证': 872,\n         '气滞血瘀证': 525,\n         '风痰阻络证': 373,\n         '肝胃郁热证': 224,\n         '痰湿蕴肺证': 208,\n         '正虚瘀结证': 205,\n         '热毒蕴结证': 144,\n         '脾肾两虚证': 110,\n         '肝肾亏虚证': 103,\n         '气阴两虚证': 94,\n         '湿热瘀阻证': 70,\n         '肾虚证': 66,\n         '肝胃不和证': 61,\n         '肝肾不足证': 59,\n         '风寒袭肺证': 59,\n         '湿热蕴结证': 58,\n         '脾胃虚寒证': 58,\n         '阳虚水泛证': 56,\n         '心血瘀阻证': 50,\n         '风痰上扰证': 47,\n         '风寒外袭证': 44,\n         '风痰入络证': 37,\n         '瘀血阻络证': 35,\n         '痰瘀互结证': 35,\n         '痰浊瘀阻证': 34,\n         '阴虚阳亢证': 34,\n         '痰浊蒙窍证': 32,\n         '肝阳上亢证': 24,\n         '气血亏虚证': 24,\n         '痰湿蒙窍证': 24,\n         '肝肾阴虚证': 22,\n         '阴虚火旺证': 21,\n         '痰湿中阻证': 21,\n         '血瘀痰凝证': 20,\n         '肝经湿热证': 19,\n         '正虚瘀结': 17,\n         '痰瘀痹阻证': 17,\n         '血热证': 17,\n         '正虚毒瘀证': 17,\n         '脾胃不和证': 16,\n         '阴虚血瘀证': 15,\n         '湿热阻络证': 14,\n         '湿热内蕴证': 13,\n         '心血不足证': 13,\n         '脾肾阳虚证': 11,\n         '瘀阻心脉证': 11,\n         '肝郁血瘀证': 11,\n         '寒凝血瘀证': 11,\n         '阳虚血瘀证': 11,\n         '肝郁气滞证': 10,\n         '肝阴不足证': 10,\n         '脾胃虚弱证': 10,\n         '脾胃亏虚证': 10,\n         '痰瘀滞络证': 10,\n         '气虚不摄证': 9,\n         '肝气犯胃证': 9,\n         '正虚毒结证': 9,\n         '风寒湿痹证': 9,\n         '气机阻滞证': 9,\n         '气滞血瘀': 8,\n         '肺肾气虚证': 8,\n         '心肾不交证': 8,\n         '肾虚水泛证': 8,\n         '脾胃积热证': 8,\n         '瘀血阻滞证': 8,\n         '心气亏虚证': 8,\n         '气血不足证': 8,\n         '饮食积滞证': 8,\n         '痰热蕴肺证': 7,\n         '痰湿内阻证': 7,\n         '痰浊内蕴证': 7,\n         '风寒阻络证': 7,\n         '风热犯肺证': 7,\n         '气虚痰结证': 7,\n         '气血两虚证': 6,\n         '风寒袭表证': 6,\n         '痰火扰心证': 6,\n         '肺卫不固证': 6,\n         '寒湿阻络证': 6,\n         '津亏热结证': 6,\n         '脾虚证': 6,\n         '肝胆湿热证': 5,\n         '肾气虚证': 5,\n         '血虚风燥证': 5,\n         '脾虚湿蕴证': 5,\n         '大肠湿热证': 5,\n         '脾虚湿盛证': 5,\n         '脾肾亏虚证': 4,\n         '气虚证': 4,\n         '阴虚血热证': 4,\n         '气血瘀滞证': 4,\n         '痰热壅肺证': 4,\n         '肾虚肝亢证': 4,\n         '痰浊中阻证': 4,\n         '阴虚风动证': 4,\n         '肝郁脾虚证': 4,\n         '风寒痹阻证': 4,\n         '风寒湿阻证': 4,\n         '风热袭表证': 4,\n         '肾虚寒凝证': 4,\n         '风热毒蕴证': 4,\n         '湿热蕴毒证': 3,\n         '脾胃气虚证': 3,\n         '肝气郁滞证': 3,\n         '痰浊上蒙证': 3,\n         '心虚胆怯证': 3,\n         '脾胃阳虚证': 3,\n         '肝胃气滞证': 3,\n         '热毒炽盛证': 3,\n         '血虚证': 3,\n         '痰湿阻滞证': 3,\n         '风湿热证': 3,\n         '痰蒙清窍证': 3,\n         '气滞痰瘀证': 3,\n         '髓海不足证': 3,\n         '热毒蕴肤证': 3,\n         '中气下陷证': 3,\n         '风热伤络证': 3,\n         '痰蒙神窍证': 3,\n         '风热血热证': 3,\n         '气郁痰阻证': 3,\n         '瘀血痹阻证': 2,\n         '气滞瘀阻证': 2,\n         '痰热郁肺证': 2,\n         '胃热滞脾证': 2,\n         '脓毒侵袭证': 2,\n         '脾肾气虚证': 2,\n         '湿热瘀滞证': 2,\n         '脾不统血证': 2,\n         '风痰闭阻证': 2,\n         '心阳不振证': 2,\n         '瘀血内阻证': 2,\n         '外伤损络证': 2,\n         '痰气交阻证': 2,\n         '肝肾亏损证': 2,\n         '风湿蕴结证': 2,\n         '气阴亏虚证': 2,\n         '瘀滞胞宫证': 2,\n         '肝肾两虚证': 2,\n         '风热外袭证': 2,\n         '热毒壅结证': 2,\n         '中气不足证': 2,\n         '肺阴亏耗证': 2,\n         '阴虚湿热证': 2,\n         '风痰闭窍证': 2,\n         '脾胃湿热证': 2,\n         '阴虚津亏证': 2,\n         '阴虚肠燥证': 2,\n         '心脾两虚证': 2,\n         '气血失调证': 2,\n         '痰热内扰证': 2,\n         '肾阳虚证': 2,\n         '湿毒蕴结证': 2,\n         '寒证': 2,\n         '毒邪流窜证': 2,\n         '阳虚痰凝证': 2,\n         '气虚血溢证': 2,\n         '风邪阻络证': 1,\n         '痰湿痹阻证': 1,\n         '气血两虚': 1,\n         '痰湿侵肺证': 1,\n         '肝气郁结证': 1,\n         '痰热蕴结证': 1,\n         '痰热阻结证': 1,\n         '痰热闭肺证': 1,\n         '心血亏虚证': 1,\n         '阴伤气耗证': 1,\n         '气阴不足证': 1,\n         '痰湿证': 1,\n         '血热内扰证': 1,\n         '气虚毒滞证': 1,\n         '瘀阻肠络证': 1,\n         '肝脾两虚证': 1,\n         '肝脾亏虚证': 1,\n         '风热闭肺证': 1,\n         '风热蕴肤证': 1,\n         '风热上犯证': 1,\n         '风湿蕴肤证': 1,\n         '肾精亏虚证': 1,\n         '肾虚督寒证': 1,\n         '肾阳亏虚证': 1,\n         '脾虚气陷证': 1,\n         '中气不中证': 1,\n         '气虚不运证': 1,\n         '热结肠燥证': 1,\n         '肾不纳气证': 1,\n         '气虚欲脱证': 1,\n         '肠燥津伤证': 1,\n         '肺脾湿热证': 1})"
     },
     "execution_count": 6,
     "metadata": {},
     "output_type": "execute_result"
    }
   ],
   "source": [
    "syndrome_counts"
   ],
   "metadata": {
    "collapsed": false,
    "pycharm": {
     "name": "#%%\n"
    }
   }
  },
  {
   "cell_type": "code",
   "execution_count": 7,
   "outputs": [
    {
     "data": {
      "text/plain": "190"
     },
     "execution_count": 7,
     "metadata": {},
     "output_type": "execute_result"
    }
   ],
   "source": [
    "len(syndrome_counts)"
   ],
   "metadata": {
    "collapsed": false,
    "pycharm": {
     "name": "#%%\n"
    }
   }
  },
  {
   "cell_type": "markdown",
   "source": [
    "## 数据整理成输入-输出的格式"
   ],
   "metadata": {
    "collapsed": false,
    "pycharm": {
     "name": "#%% md\n"
    }
   }
  },
  {
   "cell_type": "code",
   "execution_count": 12,
   "outputs": [],
   "source": [
    "MH = pd.DataFrame(Medical_History)\n",
    "MH = MH[['lcd_name', 'description', 'chief_complaint', 'detection', 'syndrome']]"
   ],
   "metadata": {
    "collapsed": false,
    "pycharm": {
     "name": "#%%\n"
    }
   }
  },
  {
   "cell_type": "code",
   "execution_count": 13,
   "outputs": [
    {
     "data": {
      "text/plain": "  lcd_name                                        description  \\\n0      紫癜病  患者1年前无明显诱因出现皮肤青紫斑点，全身乏力，体检发现血小板减少，予徐州市二院就诊，诊断“...   \n1       便血  患者4天前出现大便色黑,1.22行血常规、电解质检查,结果无异常，自服抑酸、制酸剂，昨日大便...   \n2      吐血病  患者2年来间断出现呕血、黑便，多次于我市多家医院住院治疗，予抑酸、护胃、降低门静脉压力、止血...   \n3      便血病  患者自2016年4月反复出现黑便，量多，诊断考虑：1.上消化道出血：食管静脉曲张破裂2.肝炎...   \n4      便血病  患者一年前无明显诱因出现大便不成形，次数增多，3-4次/日，便前伴腹痛，便后缓解，无明显粘液...   \n\n      chief_complaint                                          detection  \\\n0  反复皮肤青紫斑点1年，又作伴乏力3天  神志清晰，精神尚可，形体适中，语言清晰，口唇红润；皮肤正常，无斑疹。头颅大小形态正常，无目窼...   \n1            大便色黑间作4天  神志清晰，精神尚可，形体适中，语言清晰，口唇红润；皮肤正常，无斑疹。头颅大小形态正常，无目窼...   \n2     反复呕血黑便2年，再发7小时。  神志清晰，精神尚可，形体偏瘦，语言清晰，口唇苍白；皮肤苍白，无斑疹。头颅大小形态正常，无目窼...   \n3      反复黑便间作三年余，再发半日  神志清晰，精神尚可，形体形体适中，语言清晰，口唇苍白；皮肤正常，无斑疹。头颅大小形态正常，无...   \n4  大便不成形一年，加重伴颜色发黑一周。  神志清晰，精神尚可，形体形体适中，语言清晰，口唇苍白；皮肤正常，无斑疹。头颅大小形态正常，无...   \n\n  syndrome  \n0    气虚不摄证  \n1    气虚不摄证  \n2    气虚不摄证  \n3    气虚不摄证  \n4    气虚不摄证  ",
      "text/html": "<div>\n<style scoped>\n    .dataframe tbody tr th:only-of-type {\n        vertical-align: middle;\n    }\n\n    .dataframe tbody tr th {\n        vertical-align: top;\n    }\n\n    .dataframe thead th {\n        text-align: right;\n    }\n</style>\n<table border=\"1\" class=\"dataframe\">\n  <thead>\n    <tr style=\"text-align: right;\">\n      <th></th>\n      <th>lcd_name</th>\n      <th>description</th>\n      <th>chief_complaint</th>\n      <th>detection</th>\n      <th>syndrome</th>\n    </tr>\n  </thead>\n  <tbody>\n    <tr>\n      <th>0</th>\n      <td>紫癜病</td>\n      <td>患者1年前无明显诱因出现皮肤青紫斑点，全身乏力，体检发现血小板减少，予徐州市二院就诊，诊断“...</td>\n      <td>反复皮肤青紫斑点1年，又作伴乏力3天</td>\n      <td>神志清晰，精神尚可，形体适中，语言清晰，口唇红润；皮肤正常，无斑疹。头颅大小形态正常，无目窼...</td>\n      <td>气虚不摄证</td>\n    </tr>\n    <tr>\n      <th>1</th>\n      <td>便血</td>\n      <td>患者4天前出现大便色黑,1.22行血常规、电解质检查,结果无异常，自服抑酸、制酸剂，昨日大便...</td>\n      <td>大便色黑间作4天</td>\n      <td>神志清晰，精神尚可，形体适中，语言清晰，口唇红润；皮肤正常，无斑疹。头颅大小形态正常，无目窼...</td>\n      <td>气虚不摄证</td>\n    </tr>\n    <tr>\n      <th>2</th>\n      <td>吐血病</td>\n      <td>患者2年来间断出现呕血、黑便，多次于我市多家医院住院治疗，予抑酸、护胃、降低门静脉压力、止血...</td>\n      <td>反复呕血黑便2年，再发7小时。</td>\n      <td>神志清晰，精神尚可，形体偏瘦，语言清晰，口唇苍白；皮肤苍白，无斑疹。头颅大小形态正常，无目窼...</td>\n      <td>气虚不摄证</td>\n    </tr>\n    <tr>\n      <th>3</th>\n      <td>便血病</td>\n      <td>患者自2016年4月反复出现黑便，量多，诊断考虑：1.上消化道出血：食管静脉曲张破裂2.肝炎...</td>\n      <td>反复黑便间作三年余，再发半日</td>\n      <td>神志清晰，精神尚可，形体形体适中，语言清晰，口唇苍白；皮肤正常，无斑疹。头颅大小形态正常，无...</td>\n      <td>气虚不摄证</td>\n    </tr>\n    <tr>\n      <th>4</th>\n      <td>便血病</td>\n      <td>患者一年前无明显诱因出现大便不成形，次数增多，3-4次/日，便前伴腹痛，便后缓解，无明显粘液...</td>\n      <td>大便不成形一年，加重伴颜色发黑一周。</td>\n      <td>神志清晰，精神尚可，形体形体适中，语言清晰，口唇苍白；皮肤正常，无斑疹。头颅大小形态正常，无...</td>\n      <td>气虚不摄证</td>\n    </tr>\n  </tbody>\n</table>\n</div>"
     },
     "execution_count": 13,
     "metadata": {},
     "output_type": "execute_result"
    }
   ],
   "source": [
    "MH.head()"
   ],
   "metadata": {
    "collapsed": false,
    "pycharm": {
     "name": "#%%\n"
    }
   }
  },
  {
   "cell_type": "code",
   "execution_count": 14,
   "outputs": [],
   "source": [
    "MH['lcd_name'] = MH['lcd_name'].str.strip()\n",
    "MH['description'] = MH['description'].str.strip()\n",
    "MH['chief_complaint'] = MH['chief_complaint'].str.strip()\n",
    "MH['detection'] = MH['detection'].str.strip()"
   ],
   "metadata": {
    "collapsed": false,
    "pycharm": {
     "name": "#%%\n"
    }
   }
  },
  {
   "cell_type": "code",
   "execution_count": 15,
   "outputs": [],
   "source": [
    "Train_data = pd.DataFrame(columns=['features', 'label'])"
   ],
   "metadata": {
    "collapsed": false,
    "pycharm": {
     "name": "#%%\n"
    }
   }
  },
  {
   "cell_type": "code",
   "execution_count": 16,
   "outputs": [],
   "source": [
    "Train_data['features'] = MH['lcd_name'] + ' ' + MH['description'] + ' ' + MH['chief_complaint'] + ' ' + MH['detection']\n",
    "Train_data['label'] = MH['syndrome']"
   ],
   "metadata": {
    "collapsed": false,
    "pycharm": {
     "name": "#%%\n"
    }
   }
  },
  {
   "cell_type": "code",
   "execution_count": 17,
   "outputs": [
    {
     "data": {
      "text/plain": "                                               features  label\n0     紫癜病 患者1年前无明显诱因出现皮肤青紫斑点，全身乏力，体检发现血小板减少，予徐州市二院就诊...  气虚不摄证\n1     便血 患者4天前出现大便色黑,1.22行血常规、电解质检查,结果无异常，自服抑酸、制酸剂，昨...  气虚不摄证\n2     吐血病 患者2年来间断出现呕血、黑便，多次于我市多家医院住院治疗，予抑酸、护胃、降低门静脉压...  气虚不摄证\n3     便血病 患者自2016年4月反复出现黑便，量多，诊断考虑：1.上消化道出血：食管静脉曲张破裂...  气虚不摄证\n4     便血病 患者一年前无明显诱因出现大便不成形，次数增多，3-4次/日，便前伴腹痛，便后缓解，无...  气虚不摄证\n...                                                 ...    ...\n5481  蝼蛄疖病 患者1年前头顶部出现一小指甲大小肿物，时有刺痛、瘙痒不适，其后逐渐增多、增多，时常...  毒邪流窜证\n5482  胸痹心痛病 患者10余年前开始反复出现胸闷心慌，头晕，乏力，持续数分钟，活动时明显，休息后可...  阳虚痰凝证\n5483  胸痹心痛病 患者10余年前开始反复出现胸闷不适，受凉时明显，每次持续数分钟，休息后可缓解，未...  阳虚痰凝证\n5484  便血病 患者昨日中午解黑便一次，无呕血，伴有上腹胀，四肢乏力，有反酸、嗳气及上腹部、胸骨后烧...  气虚血溢证\n5485  便血病 患者今日凌晨起无明显诱因解黑便三次，总量不详，无明显腹痛，伴恶心呕吐，呕吐物为胃内容...  气虚血溢证\n\n[5486 rows x 2 columns]",
      "text/html": "<div>\n<style scoped>\n    .dataframe tbody tr th:only-of-type {\n        vertical-align: middle;\n    }\n\n    .dataframe tbody tr th {\n        vertical-align: top;\n    }\n\n    .dataframe thead th {\n        text-align: right;\n    }\n</style>\n<table border=\"1\" class=\"dataframe\">\n  <thead>\n    <tr style=\"text-align: right;\">\n      <th></th>\n      <th>features</th>\n      <th>label</th>\n    </tr>\n  </thead>\n  <tbody>\n    <tr>\n      <th>0</th>\n      <td>紫癜病 患者1年前无明显诱因出现皮肤青紫斑点，全身乏力，体检发现血小板减少，予徐州市二院就诊...</td>\n      <td>气虚不摄证</td>\n    </tr>\n    <tr>\n      <th>1</th>\n      <td>便血 患者4天前出现大便色黑,1.22行血常规、电解质检查,结果无异常，自服抑酸、制酸剂，昨...</td>\n      <td>气虚不摄证</td>\n    </tr>\n    <tr>\n      <th>2</th>\n      <td>吐血病 患者2年来间断出现呕血、黑便，多次于我市多家医院住院治疗，予抑酸、护胃、降低门静脉压...</td>\n      <td>气虚不摄证</td>\n    </tr>\n    <tr>\n      <th>3</th>\n      <td>便血病 患者自2016年4月反复出现黑便，量多，诊断考虑：1.上消化道出血：食管静脉曲张破裂...</td>\n      <td>气虚不摄证</td>\n    </tr>\n    <tr>\n      <th>4</th>\n      <td>便血病 患者一年前无明显诱因出现大便不成形，次数增多，3-4次/日，便前伴腹痛，便后缓解，无...</td>\n      <td>气虚不摄证</td>\n    </tr>\n    <tr>\n      <th>...</th>\n      <td>...</td>\n      <td>...</td>\n    </tr>\n    <tr>\n      <th>5481</th>\n      <td>蝼蛄疖病 患者1年前头顶部出现一小指甲大小肿物，时有刺痛、瘙痒不适，其后逐渐增多、增多，时常...</td>\n      <td>毒邪流窜证</td>\n    </tr>\n    <tr>\n      <th>5482</th>\n      <td>胸痹心痛病 患者10余年前开始反复出现胸闷心慌，头晕，乏力，持续数分钟，活动时明显，休息后可...</td>\n      <td>阳虚痰凝证</td>\n    </tr>\n    <tr>\n      <th>5483</th>\n      <td>胸痹心痛病 患者10余年前开始反复出现胸闷不适，受凉时明显，每次持续数分钟，休息后可缓解，未...</td>\n      <td>阳虚痰凝证</td>\n    </tr>\n    <tr>\n      <th>5484</th>\n      <td>便血病 患者昨日中午解黑便一次，无呕血，伴有上腹胀，四肢乏力，有反酸、嗳气及上腹部、胸骨后烧...</td>\n      <td>气虚血溢证</td>\n    </tr>\n    <tr>\n      <th>5485</th>\n      <td>便血病 患者今日凌晨起无明显诱因解黑便三次，总量不详，无明显腹痛，伴恶心呕吐，呕吐物为胃内容...</td>\n      <td>气虚血溢证</td>\n    </tr>\n  </tbody>\n</table>\n<p>5486 rows × 2 columns</p>\n</div>"
     },
     "execution_count": 17,
     "metadata": {},
     "output_type": "execute_result"
    }
   ],
   "source": [
    "Train_data"
   ],
   "metadata": {
    "collapsed": false,
    "pycharm": {
     "name": "#%%\n"
    }
   }
  },
  {
   "cell_type": "markdown",
   "source": [
    "## 检查字数并可视化"
   ],
   "metadata": {
    "collapsed": false,
    "pycharm": {
     "name": "#%% md\n"
    }
   }
  },
  {
   "cell_type": "code",
   "execution_count": 18,
   "outputs": [],
   "source": [
    "features_length = Train_data['features'].apply(len).values\n",
    "variance = np.var(features_length)"
   ],
   "metadata": {
    "collapsed": false,
    "pycharm": {
     "name": "#%%\n"
    }
   }
  },
  {
   "cell_type": "code",
   "execution_count": 19,
   "outputs": [
    {
     "data": {
      "text/plain": "<Figure size 1000x600 with 1 Axes>",
      "image/png": "[encoded data removed]"
     },
     "metadata": {},
     "output_type": "display_data"
    }
   ],
   "source": [
    "sorted_features_length = np.sort(features_length)[::-1]\n",
    "\n",
    "case_numbers = range(1, len(features_length) + 1)\n",
    "\n",
    "plt.figure(figsize=(10, 6))\n",
    "plt.plot(case_numbers, sorted_features_length, marker='o')  # 使用线图，并为每个点添加标记\n",
    "plt.title('Features Length by Case Number')\n",
    "plt.xlabel('Case Number')\n",
    "plt.ylabel('Features Length')\n",
    "plt.grid(True)\n",
    "plt.show()"
   ],
   "metadata": {
    "collapsed": false,
    "pycharm": {
     "name": "#%%\n"
    }
   }
  },
  {
   "cell_type": "markdown",
   "source": [
    "# 模型的构建"
   ],
   "metadata": {
    "collapsed": false,
    "pycharm": {
     "name": "#%% md\n"
    }
   }
  },
  {
   "cell_type": "code",
   "execution_count": 20,
   "outputs": [],
   "source": [
    "random.seed(1234)\n",
    "x_train,x_test,y_train,y_test = train_test_split(Train_data['features'], Train_data['label'], test_size=0.1, shuffle=True)\n",
    "x_tr,x_val,y_tr,y_val = train_test_split(x_train, y_train, test_size=0.2, shuffle=True)"
   ],
   "metadata": {
    "collapsed": false,
    "pycharm": {
     "name": "#%%\n"
    }
   }
  },
  {
   "cell_type": "code",
   "execution_count": 21,
   "outputs": [
    {
     "data": {
      "text/plain": "346     心衰病 患者5天前于受凉感冒好转后出现胸闷憋喘不适，活动后疲乏、心慌、心悸症状，夜间阵发性呼...\n5198    头痛病 患者半月前无明显诱因出现头痛,枕部、颞部为甚,伴头晕不适，平卧后稍缓解，晨起时及活动...\n151     心衰病 患者8天前开始无明显诱因下反复出现胸闷，活动后加重，伴心慌、乏力、头晕、头痛，未予重...\n732     胸痹心痛病 患者1月前开始出现活动后胸闷，无胸痛放射痛，无心慌自汗，无喘憋气促，无咳嗽咯痰，...\n2486    腰痛病 患者诉于一月前因不慎跌倒后腰部疼痛活动受限，伴有大腿酸痛、腹股沟疼痛。卧床后疼痛症情...\n                              ...                        \n1555    混合痔 患者半年前感会阴部坠胀明显，而致便后肛内肿物脱出，能回复，伴便血,自行治疗（具体不祥...\n5151    眩晕病 患者8年前临产时出现妊娠期高血压，血压160/90mmHg，无头晕乏力，无视物旋转，...\n1302    肛漏病 患者1月前无明显诱因下出现肛缘肿痛，且伴脓血外溢，未予治疗，遂来本院求治。刻下：肛旁...\n750     心悸病 患者1周前无明显诱因出现头晕头昏，活动后憋喘，头部带帽感、沉重感，伴有右侧肢体麻木，...\n2407    腰痛病 患者半月前因劳累后出现腰部及右下肢疼痛活动受限，疼痛进行性加重，劳累后加重，休息后可...\nName: features, Length: 549, dtype: object"
     },
     "execution_count": 21,
     "metadata": {},
     "output_type": "execute_result"
    }
   ],
   "source": [
    "x_test"
   ],
   "metadata": {
    "collapsed": false,
    "pycharm": {
     "name": "#%%\n"
    }
   }
  },
  {
   "cell_type": "markdown",
   "source": [
    "## 标签和特征编码为数字格式"
   ],
   "metadata": {
    "collapsed": false,
    "pycharm": {
     "name": "#%% md\n"
    }
   }
  },
  {
   "cell_type": "code",
   "execution_count": 22,
   "outputs": [
    {
     "name": "stdout",
     "output_type": "stream",
     "text": [
      "[0 0 1 0 0 0 0 0 0 0 0 0 0 0 0 0 0 0 0 0 0 0 0 0 0 0 0 0 0 0 1 0 0 0 0 0 1\n",
      " 0 0 0 0 0 0 0 0 0 0 0 0 0 0 0 0 0 0 0 0 0 0 0 0 0 0 0 0 0 0 0 0 0 0 0 0 0\n",
      " 0 0 0 0 0 0 0 0 0 1 0 0 0 1 0 0 0 0 0 0 0 0 0 0 0 0 0 0]\n",
      "[('不', '摄', '气', '虚', '证')]\n",
      "['上' '下' '不' '两' '中' '亏' '互' '亢' '交' '伤' '侵' '入' '内' '凝' '动' '卫' '和' '固'\n",
      " '壅' '外' '大' '失' '宫' '寒' '弱' '心' '怯' '扰' '振' '损' '摄' '旺' '机' '欲' '正' '毒'\n",
      " '气' '水' '泛' '注' '津' '流' '浊' '海' '清' '湿' '溢' '滞' '火' '炽' '热' '燥' '犯' '痰'\n",
      " '痹' '瘀' '盛' '督' '神' '积' '窍' '窜' '精' '纳' '经' '结' '络' '统' '耗' '肝' '肠' '肤'\n",
      " '肺' '肾' '胃' '胆' '胞' '脉' '脓' '脱' '脾' '蒙' '蕴' '虚' '血' '表' '袭' '证' '调' '足'\n",
      " '运' '邪' '郁' '闭' '阳' '阴' '阻' '陷' '风' '食' '饮' '髓']\n"
     ]
    }
   ],
   "source": [
    "mlb = MultiLabelBinarizer()\n",
    "yt = mlb.fit_transform(Train_data['label'])\n",
    "print(yt[0])\n",
    "print(mlb.inverse_transform(yt[0].reshape(1,-1)))\n",
    "print(mlb.classes_)"
   ],
   "metadata": {
    "collapsed": false,
    "pycharm": {
     "name": "#%%\n"
    }
   }
  },
  {
   "cell_type": "code",
   "execution_count": null,
   "outputs": [],
   "source": [
    "class QTagDataset (Train_data):\n",
    "    def __init__(self,quest,tags, tokenizer, max_len):\n",
    "        self.tokenizer = tokenizer\n",
    "        self.text = quest\n",
    "        self.labels = tags\n",
    "        self.max_len = max_len\n",
    "\n",
    "    def __len__(self):\n",
    "        return len(self.text)\n",
    "\n",
    "    def __getitem__(self, item_idx):\n",
    "        text = self.text[item_idx]\n",
    "        inputs = self.tokenizer.encode_plus(\n",
    "            text,\n",
    "            None,\n",
    "            add_special_tokens=True,\n",
    "            max_length= self.max_len,\n",
    "            padding = 'max_length',\n",
    "            return_token_type_ids= False,\n",
    "            return_attention_mask= True,\n",
    "            truncation=True,\n",
    "            return_tensors = 'pt'\n",
    "          )\n",
    "\n",
    "        input_ids = inputs['input_ids'].flatten()\n",
    "        attn_mask = inputs['attention_mask'].flatten()\n",
    "\n",
    "        return {\n",
    "          'input_ids': input_ids ,\n",
    "          'attention_mask': attn_mask,\n",
    "          'label':torch.tensor(self.labels[item_idx],dtype= torch.float)\n",
    "\n",
    "    }"
   ],
   "metadata": {
    "collapsed": false,
    "pycharm": {
     "name": "#%%\n"
    }
   }
  }
 ],
 "metadata": {
  "kernelspec": {
   "display_name": "Python 3",
   "language": "python",
   "name": "python3"
  },
  "language_info": {
   "codemirror_mode": {
    "name": "ipython",
    "version": 2
   },
   "file_extension": ".py",
   "mimetype": "text/x-python",
   "name": "python",
   "nbconvert_exporter": "python",
   "pygments_lexer": "ipython2",
   "version": "2.7.6"
  }
 },
 "nbformat": 4,
 "nbformat_minor": 0
}