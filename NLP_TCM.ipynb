{
 "cells": [
  {
   "cell_type": "code",
   "execution_count": 2,
   "outputs": [],
   "source": [
    "from bs4 import BeautifulSoup\n",
    "import pandas as pd\n",
    "import requests\n",
    "import re\n",
    "import time"
   ],
   "metadata": {
    "collapsed": false,
    "pycharm": {
     "name": "#%%\n"
    }
   }
  },
  {
   "cell_type": "code",
   "execution_count": 5,
   "outputs": [],
   "source": [
    "def step3_push_excel(Name, Dosage, Component, Way_Taking, Type_Form, Zheng_Form, Illness, row_index):\n",
    "    \"\"\"\n",
    "    将爬取到的内容放入表格\n",
    "    :param row_index:\n",
    "    :param Name:\n",
    "    :param Dosage:\n",
    "    :param Component:\n",
    "    :param Way_Taking:\n",
    "    :param Type_Form:\n",
    "    :param Zheng_Form:\n",
    "    :param Illness:\n",
    "    :return:\n",
    "    \"\"\"\n",
    "    data_ETCM = pd.read_excel(\"D:/github_planting/MGM/data/data_ETCM.xlsx\", sheet_name=0)\n",
    "\n",
    "    data_ETCM.loc[row_index, '方剂名称'] = Name[0]\n",
    "    data_ETCM.loc[row_index, '剂型'] = Dosage[0]\n",
    "    data_ETCM.loc[row_index, '使用方法'] = Way_Taking[0]\n",
    "    data_ETCM.loc[row_index, '方剂类型'] = Type_Form[0]\n",
    "    data_ETCM.loc[row_index, '对证'] = Zheng_Form[0]\n",
    "    data_ETCM.loc[row_index, '临床表现'] = Illness[0]\n",
    "\n",
    "    for i in range(len(Component)):\n",
    "        data_ETCM.loc[row_index, i+6] = Component[i]\n",
    "\n",
    "    data_ETCM.to_excel(\"D:/github_planting/MGM/data/data_ETCM.xlsx\", index=False)"
   ],
   "metadata": {
    "collapsed": false,
    "pycharm": {
     "name": "#%%\n"
    }
   }
  },
  {
   "cell_type": "code",
   "execution_count": 6,
   "outputs": [
    {
     "data": {
      "text/plain": "0"
     },
     "execution_count": 6,
     "metadata": {},
     "output_type": "execute_result"
    }
   ],
   "source": [
    "def step2_get_infor(page_content, TCM_index):\n",
    "    \"\"\"\n",
    "    获取各类方剂及其对应信息\n",
    "    :param TCM_index:\n",
    "    :param page_content: 网页源码\n",
    "    :return:\n",
    "    \"\"\"\n",
    "    # 获取方剂名称信息\n",
    "    Name_Form_pattern = r\"<a.*?href=.*?target='_blank'>(.*?)<\\/a>\"\n",
    "    Name_Form_matches = re.findall(Name_Form_pattern, page_content)\n",
    "\n",
    "    # 获取方剂剂型\n",
    "    Dosage_Form_pattern = r'Dosage Form.*?>.*?>(.*?)<\\/div>'\n",
    "    Dosage_Form_matches = re.findall(Dosage_Form_pattern, page_content)\n",
    "\n",
    "    # 获取方剂组成\n",
    "    Component_Form_pattern = r\"html\\?id=.*?>(.*?)</a>\"\n",
    "    Component_Form_matches = re.findall(Component_Form_pattern, page_content)\n",
    "    Component_Form_matches = Component_Form_matches[0:int(len(Component_Form_matches)/2)]\n",
    "\n",
    "    # 获取服用方法\n",
    "    Way_Taking_Form_pattern = r\"Administration</div>.*?>(.*?)</div>\"\n",
    "    Way_Taking_Form_matches = re.findall(Way_Taking_Form_pattern, page_content)\n",
    "\n",
    "    # 获取药物类型\n",
    "    Type_Form_pattern = r\"id='L778'.*?Type.*?>.*?>(.*?)</div>\"\n",
    "    Type_Form_matches = re.findall(Type_Form_pattern, page_content)\n",
    "\n",
    "    # 获取药物证相\n",
    "    Zheng_Form_pattern = r\"id='L779'.*?Syndromes in Chinese.*?>.*?>(.*?)</div>\"\n",
    "    Zheng_Form_matches = re.findall(Zheng_Form_pattern, page_content)\n",
    "\n",
    "    # 获取药物对症\n",
    "    Illness_Form_pattern = r\"id='L7711'.*?Indications in Chinese.*?>.*?>(.*?)</div>\"\n",
    "    Illness_Form_matches = re.findall(Illness_Form_pattern, page_content)\n",
    "\n",
    "    step3_push_excel(Name_Form_matches, Dosage_Form_matches, Component_Form_matches, Way_Taking_Form_matches, Type_Form_matches, Zheng_Form_matches,Illness_Form_matches, TCM_index)\n",
    "\n",
    "    return 0\n",
    "\n",
    "    #return Name_Form_matches, Dosage_Form_matches, Component_Form_matches, Way_Taking_Form_matches, Type_Form_matches, Zheng_Form_matches,Illness_Form_matches\n",
    "\n",
    "with open(\"D:/github_planting/MGM/data/测试.txt\", \"r\", encoding='utf-8')as f:\n",
    "    content = f.read()\n",
    "step2_get_infor(content, 1)"
   ],
   "metadata": {
    "collapsed": false,
    "pycharm": {
     "name": "#%%\n"
    }
   }
  },
  {
   "cell_type": "code",
   "execution_count": 5,
   "outputs": [
    {
     "ename": "NameError",
     "evalue": "name 'step2_get_infor' is not defined",
     "output_type": "error",
     "traceback": [
      "\u001B[1;31m---------------------------------------------------------------------------\u001B[0m",
      "\u001B[1;31mNameError\u001B[0m                                 Traceback (most recent call last)",
      "Cell \u001B[1;32mIn[5], line 27\u001B[0m\n\u001B[0;32m     24\u001B[0m     \u001B[38;5;66;03m#return Name_Form_matches, Dosage_Form_matches, Component_Form_matches, Way_Taking_Form_matches, Type_Form_matches, Zheng_Form_matches, Illness_Form_matches\u001B[39;00m\n\u001B[0;32m     26\u001B[0m url \u001B[38;5;241m=\u001B[39m \u001B[38;5;124m'\u001B[39m\u001B[38;5;124mhttp://www.tcmip.cn/ETCM/index.php/Home/Index/fj_details.html?id=4\u001B[39m\u001B[38;5;124m'\u001B[39m\n\u001B[1;32m---> 27\u001B[0m \u001B[43mstep1_visit_website\u001B[49m\u001B[43m(\u001B[49m\u001B[43murl\u001B[49m\u001B[43m,\u001B[49m\u001B[43m \u001B[49m\u001B[38;5;241;43m1\u001B[39;49m\u001B[43m)\u001B[49m\n",
      "Cell \u001B[1;32mIn[5], line 20\u001B[0m, in \u001B[0;36mstep1_visit_website\u001B[1;34m(target_url, TCM_index)\u001B[0m\n\u001B[0;32m     16\u001B[0m script_tags \u001B[38;5;241m=\u001B[39m soup\u001B[38;5;241m.\u001B[39mfind_all(\u001B[38;5;124m'\u001B[39m\u001B[38;5;124mscript\u001B[39m\u001B[38;5;124m'\u001B[39m)[\u001B[38;5;241m10\u001B[39m]\n\u001B[0;32m     18\u001B[0m script_tags \u001B[38;5;241m=\u001B[39m \u001B[38;5;28mstr\u001B[39m(script_tags)[:\u001B[38;5;241m30000\u001B[39m]\n\u001B[1;32m---> 20\u001B[0m \u001B[43mstep2_get_infor\u001B[49m(script_tags, TCM_index)\n\u001B[0;32m     22\u001B[0m \u001B[38;5;28;01mreturn\u001B[39;00m \u001B[38;5;241m0\u001B[39m\n",
      "\u001B[1;31mNameError\u001B[0m: name 'step2_get_infor' is not defined"
     ]
    }
   ],
   "source": [
    "def step1_visit_website(target_url, TCM_index):\n",
    "    \"\"\"\n",
    "    访问网站链接并获取网页源码\n",
    "    :param TCM_index:\n",
    "    :param target_url:网址链接\n",
    "    :return: 网页源代码的txt格式\n",
    "    \"\"\"\n",
    "    headers = {\n",
    "        'User-Agent': 'Mozilla/5.0 (Windows NT 10.0; Win64; x64) AppleWebKit/537.36 (KHTML, like Gecko) Chrome/131.0.0.0 Safari/537.36'}\n",
    "\n",
    "    proxies = {\"http\": None, \"https\": None}\n",
    "    res = requests.get(url, headers=headers,proxies=proxies)\n",
    "    res.encoding = 'utf-8'\n",
    "\n",
    "    soup = BeautifulSoup(res.content, 'html.parser')\n",
    "    script_tags = soup.find_all('script')[10]\n",
    "\n",
    "    script_tags = str(script_tags)[:30000]\n",
    "\n",
    "    step2_get_infor(script_tags, TCM_index)\n",
    "\n",
    "    return 0\n",
    "\n",
    "    #return Name_Form_matches, Dosage_Form_matches, Component_Form_matches, Way_Taking_Form_matches, Type_Form_matches, Zheng_Form_matches, Illness_Form_matches\n",
    "\n",
    "url = 'http://www.tcmip.cn/ETCM/index.php/Home/Index/fj_details.html?id=4'\n",
    "step1_visit_website(url, 1)"
   ],
   "metadata": {
    "collapsed": false,
    "pycharm": {
     "name": "#%%\n"
    }
   }
  },
  {
   "cell_type": "markdown",
   "source": [
    "# main函数"
   ],
   "metadata": {
    "collapsed": false,
    "pycharm": {
     "name": "#%% md\n"
    }
   }
  },
  {
   "cell_type": "code",
   "execution_count": 9,
   "outputs": [
    {
     "name": "stdout",
     "output_type": "stream",
     "text": [
      "第 3963 个网站已成功爬取\n",
      "第 3964 个网站已成功爬取\n",
      "第 3965 个网站已成功爬取\n",
      "第 3966 个网站已成功爬取\n",
      "第 3967 个网站已成功爬取\n",
      "第 3968 个网站已成功爬取\n",
      "第 3969 个网站已成功爬取\n",
      "第 3970 个网站已成功爬取\n",
      "5.17333722114563\n"
     ]
    }
   ],
   "source": [
    "start_time = time.time()\n",
    "\n",
    "base_url = 'http://www.tcmip.cn/ETCM/index.php/Home/Index/fj_details.html?id='\n",
    "\n",
    "for i in range(3970):\n",
    "    extra_url = str(i + 1)\n",
    "    url = base_url + extra_url\n",
    "    try:\n",
    "        print(\"第\", i+1, \"个网站已成功爬取\")\n",
    "        url_content = step1_visit_website(url, i+1)\n",
    "    except:\n",
    "        print(\"第\", i+1, \"个网站爬取失败\")\n",
    "        url_content = step1_visit_website(url, i+1)\n",
    "\n",
    "end_time = time.time()\n",
    "print(str(end_time - start_time))"
   ],
   "metadata": {
    "collapsed": false,
    "pycharm": {
     "name": "#%%\n"
    }
   }
  }
 ],
 "metadata": {
  "kernelspec": {
   "name": "python3",
   "language": "python",
   "display_name": "Python 3 (ipykernel)"
  },
  "language_info": {
   "codemirror_mode": {
    "name": "ipython",
    "version": 2
   },
   "file_extension": ".py",
   "mimetype": "text/x-python",
   "name": "python",
   "nbconvert_exporter": "python",
   "pygments_lexer": "ipython2",
   "version": "2.7.6"
  }
 },
 "nbformat": 4,
 "nbformat_minor": 0
}